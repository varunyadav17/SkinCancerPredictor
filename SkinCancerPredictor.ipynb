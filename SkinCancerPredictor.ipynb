{
  "nbformat": 4,
  "nbformat_minor": 0,
  "metadata": {
    "colab": {
      "name": "SkinCancerPredictor.ipynb",
      "provenance": [],
      "collapsed_sections": [],
      "include_colab_link": true
    },
    "kernelspec": {
      "name": "python3",
      "display_name": "Python 3"
    }
  },
  "cells": [
    {
      "cell_type": "markdown",
      "metadata": {
        "id": "view-in-github",
        "colab_type": "text"
      },
      "source": [
        "<a href=\"https://colab.research.google.com/github/varunyadav17/SkinCancerPredictor/blob/master/SkinCancerPredictor.ipynb\" target=\"_parent\"><img src=\"https://colab.research.google.com/assets/colab-badge.svg\" alt=\"Open In Colab\"/></a>"
      ]
    },
    {
      "cell_type": "code",
      "metadata": {
        "id": "KH67p643CvoA",
        "colab_type": "code",
        "outputId": "9e7a6124-7c37-4be9-e9a6-53c7ac774c36",
        "colab": {
          "base_uri": "https://localhost:8080/",
          "height": 68
        }
      },
      "source": [
        "!pip install pyunpack patool\n",
        "import os\n",
        "import gc\n",
        "import json\n",
        "import shutil\n",
        "import random\n",
        "import datetime\n",
        "import numpy as np\n",
        "import pandas as pd\n",
        "import tensorflow as tf\n",
        "\n",
        "from pyunpack import Archive\n",
        "\n",
        "from keras import backend as K\n",
        "from keras.models import Sequential\n",
        "from sklearn.metrics import precision_score, recall_score, f1_score\n",
        "from keras.layers import Conv2D, MaxPooling2D, Flatten, Dense, Dropout\n",
        "from keras.callbacks import ModelCheckpoint, TensorBoard, ReduceLROnPlateau, EarlyStopping\n",
        "\n",
        "from keras.preprocessing.image import ImageDataGenerator"
      ],
      "execution_count": 0,
      "outputs": [
        {
          "output_type": "stream",
          "text": [
            "Requirement already satisfied: pyunpack in /usr/local/lib/python3.6/dist-packages (0.1.2)\n",
            "Requirement already satisfied: patool in /usr/local/lib/python3.6/dist-packages (1.12)\n",
            "Requirement already satisfied: easyprocess in /usr/local/lib/python3.6/dist-packages (from pyunpack) (0.2.7)\n"
          ],
          "name": "stdout"
        }
      ]
    },
    {
      "cell_type": "code",
      "metadata": {
        "id": "SxoD03gReHJi",
        "colab_type": "code",
        "outputId": "ac7163ad-f964-4f34-b576-95cd5a7c7cdd",
        "colab": {
          "base_uri": "https://localhost:8080/",
          "height": 122
        }
      },
      "source": [
        "from google.colab import drive\n",
        "drive.mount('/content/drive')"
      ],
      "execution_count": 0,
      "outputs": [
        {
          "output_type": "stream",
          "text": [
            "Go to this URL in a browser: https://accounts.google.com/o/oauth2/auth?client_id=947318989803-6bn6qk8qdgf4n4g3pfee6491hc0brc4i.apps.googleusercontent.com&redirect_uri=urn%3Aietf%3Awg%3Aoauth%3A2.0%3Aoob&scope=email%20https%3A%2F%2Fwww.googleapis.com%2Fauth%2Fdocs.test%20https%3A%2F%2Fwww.googleapis.com%2Fauth%2Fdrive%20https%3A%2F%2Fwww.googleapis.com%2Fauth%2Fdrive.photos.readonly%20https%3A%2F%2Fwww.googleapis.com%2Fauth%2Fpeopleapi.readonly&response_type=code\n",
            "\n",
            "Enter your authorization code:\n",
            "··········\n",
            "Mounted at /content/drive\n"
          ],
          "name": "stdout"
        }
      ]
    },
    {
      "cell_type": "code",
      "metadata": {
        "id": "MejB9D9hLZ-l",
        "colab_type": "code",
        "colab": {}
      },
      "source": [
        "Archive('/content/drive/My Drive/Data.rar').extractall('.')"
      ],
      "execution_count": 0,
      "outputs": []
    },
    {
      "cell_type": "markdown",
      "metadata": {
        "id": "H2sm24OiQbnA",
        "colab_type": "text"
      },
      "source": [
        "**Preprocessing**"
      ]
    },
    {
      "cell_type": "code",
      "metadata": {
        "id": "T9U5Cff9QdN_",
        "colab_type": "code",
        "colab": {}
      },
      "source": [
        "count = len(os.listdir('Data'))"
      ],
      "execution_count": 0,
      "outputs": []
    },
    {
      "cell_type": "code",
      "metadata": {
        "id": "om_1fIx_Q9TD",
        "colab_type": "code",
        "colab": {}
      },
      "source": [
        "INPUT_DESC_PATH = 'Data/Descriptions/'\n",
        "INPUT_IMAGE_PATH = 'Data/Images'\n",
        "if count > 0 and os.path.exists(INPUT_DESC_PATH):\n",
        "  descfiles = os.listdir(INPUT_DESC_PATH)"
      ],
      "execution_count": 0,
      "outputs": []
    },
    {
      "cell_type": "code",
      "metadata": {
        "id": "jdJQFVXCgDC6",
        "colab_type": "code",
        "colab": {}
      },
      "source": [
        "#descfiles = [i[:-5] for i in descfiles if i.endswith('.json')]"
      ],
      "execution_count": 0,
      "outputs": []
    },
    {
      "cell_type": "code",
      "metadata": {
        "id": "ETTtszctRVxG",
        "colab_type": "code",
        "colab": {}
      },
      "source": [
        "image_types = {}\n",
        "if len(descfiles) > 0:\n",
        "  for i in range(len(descfiles)):\n",
        "    file = os.path.join(INPUT_DESC_PATH, descfiles[i])\n",
        "    with open(file) as json_file:\n",
        "      data = json.load(json_file)\n",
        "      if descfiles[i].endswith('.json'):\n",
        "        key = descfiles[i][:-5]\n",
        "      else:\n",
        "        key = descfiles[i]\n",
        "      image_types[key] = data['meta']['clinical']['benign_malignant']"
      ],
      "execution_count": 0,
      "outputs": []
    },
    {
      "cell_type": "markdown",
      "metadata": {
        "id": "IWnW58Bu1n_P",
        "colab_type": "text"
      },
      "source": [
        "**Create Directory Tree**"
      ]
    },
    {
      "cell_type": "code",
      "metadata": {
        "id": "rN5BVaxo1drB",
        "colab_type": "code",
        "colab": {}
      },
      "source": [
        "if not os.path.exists('Train'):\n",
        "  os.mkdir('Train')\n",
        "  os.chdir('Train')\n",
        "  os.mkdir('Benign')\n",
        "  os.mkdir('Malignant')\n",
        "  \n",
        "if not os.path.exists('Test'):\n",
        "  os.chdir('..')\n",
        "  os.mkdir('Test') \n",
        "  os.chdir('Test')\n",
        "  os.mkdir('Benign')\n",
        "  os.mkdir('Malignant')\n",
        "  \n",
        "if not os.path.exists('Val'):\n",
        "  os.chdir('..')\n",
        "  os.mkdir('Val')\n",
        "  os.chdir('Val')\n",
        "  os.mkdir('Benign')\n",
        "  os.mkdir('Malignant')\n",
        "  os.chdir('..')"
      ],
      "execution_count": 0,
      "outputs": []
    },
    {
      "cell_type": "code",
      "metadata": {
        "id": "oGK8XIdrSMcc",
        "colab_type": "code",
        "colab": {}
      },
      "source": [
        "benign_images = [key for (key, value) in image_types.items() if value == 'benign']"
      ],
      "execution_count": 0,
      "outputs": []
    },
    {
      "cell_type": "code",
      "metadata": {
        "id": "Kjj8U6bFVj86",
        "colab_type": "code",
        "colab": {}
      },
      "source": [
        "# Append extensions to files\n",
        "complete_benign_files = []\n",
        "input_files = os.listdir(INPUT_IMAGE_PATH)\n",
        "for i in range(len(benign_images)):\n",
        "  newfile = [file for file in input_files if file.startswith(benign_images[i])]\n",
        "  complete_benign_files.append(newfile)"
      ],
      "execution_count": 0,
      "outputs": []
    },
    {
      "cell_type": "code",
      "metadata": {
        "id": "KjWuV7io3jv6",
        "colab_type": "code",
        "colab": {}
      },
      "source": [
        "malignant_images = [key for (key, value) in image_types.items() if value == 'malignant']"
      ],
      "execution_count": 0,
      "outputs": []
    },
    {
      "cell_type": "code",
      "metadata": {
        "id": "GBE8P0KqarSI",
        "colab_type": "code",
        "colab": {}
      },
      "source": [
        "# Append extensions to files\n",
        "complete_malignant_files = []\n",
        "input_files = os.listdir(INPUT_IMAGE_PATH)\n",
        "for i in range(len(malignant_images)):\n",
        "  newfile = [file for file in input_files if file.startswith(malignant_images[i])]\n",
        "  complete_malignant_files.append(newfile)"
      ],
      "execution_count": 0,
      "outputs": []
    },
    {
      "cell_type": "code",
      "metadata": {
        "id": "HqCj2H1g4wzM",
        "colab_type": "code",
        "colab": {}
      },
      "source": [
        "train, val, test = np.split(pd.DataFrame(complete_benign_files).sample(frac = 1) ,[int(.6 * len(complete_benign_files)), int(.8 * len(complete_benign_files))])"
      ],
      "execution_count": 0,
      "outputs": []
    },
    {
      "cell_type": "code",
      "metadata": {
        "id": "sJIL5C4bE85G",
        "colab_type": "code",
        "colab": {}
      },
      "source": [
        "# Move benign files to their respective directories\n",
        "train_list = train[0].tolist()\n",
        "for i in range(len(train)):\n",
        "  src = os.path.join(INPUT_IMAGE_PATH, (train_list[i]))\n",
        "  dest = os.path.join('Train/Benign', train_list[i])\n",
        "  if os.path.exists(src):\n",
        "    shutil.move(src, dest)\n",
        "    \n",
        "test_list = test[0].tolist()\n",
        "for i in range(len(test)):\n",
        "  src = os.path.join(INPUT_IMAGE_PATH, (test_list[i]))\n",
        "  dest = os.path.join('Test/Benign', test_list[i])\n",
        "  if os.path.exists(src):\n",
        "    shutil.move(src, dest)\n",
        "\n",
        "val_list = val[0].tolist()\n",
        "for i in range(len(val)):\n",
        "  src = os.path.join(INPUT_IMAGE_PATH, (val_list[i]))\n",
        "  dest = os.path.join('Val/Benign', val_list[i])\n",
        "  if os.path.exists(src):\n",
        "    shutil.move(src, dest)"
      ],
      "execution_count": 0,
      "outputs": []
    },
    {
      "cell_type": "code",
      "metadata": {
        "id": "iQJ60qv0gfBy",
        "colab_type": "code",
        "colab": {}
      },
      "source": [
        "# Now add malignant files in similar ratio to Train,Test and Val directories\n",
        "train, val, test = np.split(pd.DataFrame(complete_malignant_files).sample(frac = 1) ,[int(.6 * len(complete_malignant_files)), int(.8 * len(complete_malignant_files))])"
      ],
      "execution_count": 0,
      "outputs": []
    },
    {
      "cell_type": "code",
      "metadata": {
        "id": "CB6UZ9JGgxtx",
        "colab_type": "code",
        "colab": {}
      },
      "source": [
        "# Move malignant files to their respective directories\n",
        "train_list = train[0].tolist()\n",
        "for i in range(len(train)):\n",
        "  src = os.path.join(INPUT_IMAGE_PATH, (train_list[i]))\n",
        "  dest = os.path.join('Train/Malignant', train_list[i])\n",
        "  if os.path.exists(src):\n",
        "    shutil.move(src, dest)\n",
        "    \n",
        "test_list = test[0].tolist()\n",
        "for i in range(len(test)):\n",
        "  src = os.path.join(INPUT_IMAGE_PATH, (test_list[i]))\n",
        "  dest = os.path.join('Test/Malignant', test_list[i])\n",
        "  if os.path.exists(src):\n",
        "    shutil.move(src, dest)\n",
        "\n",
        "val_list = val[0].tolist()\n",
        "for i in range(len(val)):\n",
        "  src = os.path.join(INPUT_IMAGE_PATH, (val_list[i]))\n",
        "  dest = os.path.join('Val/Malignant', val_list[i])\n",
        "  if os.path.exists(src):\n",
        "    shutil.move(src, dest)"
      ],
      "execution_count": 0,
      "outputs": []
    },
    {
      "cell_type": "code",
      "metadata": {
        "id": "7aXo7Om0h1AV",
        "colab_type": "code",
        "colab": {}
      },
      "source": [
        "shutil.rmtree('Data')\n",
        "#os.remove('TestData.rar')"
      ],
      "execution_count": 0,
      "outputs": []
    },
    {
      "cell_type": "markdown",
      "metadata": {
        "id": "vre7_zTQQCGd",
        "colab_type": "text"
      },
      "source": [
        "**Callbacks**"
      ]
    },
    {
      "cell_type": "code",
      "metadata": {
        "id": "ErTOrHZjQwoC",
        "colab_type": "code",
        "colab": {}
      },
      "source": [
        "batch_size = 2\n",
        "if not os.path.exists('Output'):\n",
        "  os.mkdir('Output')\n",
        "  os.chdir('Output')\n",
        "  os.mkdir('Models')\n",
        "  os.mkdir('Logs')\n",
        "  os.chdir('..')\n",
        "model_dir = 'Output/Models/'\n",
        "model_file = model_dir + 'Models' + '_{}'.format(datetime.datetime.now())+'.hdf5'\n",
        "log_dir = 'Output/Logs'"
      ],
      "execution_count": 0,
      "outputs": []
    },
    {
      "cell_type": "code",
      "metadata": {
        "id": "ojnhu5g4bWvf",
        "colab_type": "code",
        "colab": {}
      },
      "source": [
        "tf.reset_default_graph()\n",
        "K.clear_session()\n",
        "gc.collect()\n",
        "  \n",
        "checkpoint = None\n",
        "reduce_lr = None\n",
        "early_stopping = None\n",
        "tensorboard = None"
      ],
      "execution_count": 0,
      "outputs": []
    },
    {
      "cell_type": "code",
      "metadata": {
        "id": "fYVbfY4RQEbx",
        "colab_type": "code",
        "colab": {}
      },
      "source": [
        "checkpoint = ModelCheckpoint(model_file, monitor = 'val_acc', save_best_only = True)\n",
        "early_stopping = EarlyStopping(monitor = 'val_loss', patience = 5, verbose = 1, restore_best_weights = True)\n",
        "tensorboard = TensorBoard(log_dir = log_dir, batch_size = batch_size, update_freq = 'batch')\n",
        "reduce_lr = ReduceLROnPlateau(monitor= 'val_loss', patience = 5, cooldown = 2, lr = 0.0000000001, verbose = 1)\n",
        "\n",
        "callbacks = [checkpoint, early_stopping, tensorboard, reduce_lr]"
      ],
      "execution_count": 0,
      "outputs": []
    },
    {
      "cell_type": "markdown",
      "metadata": {
        "id": "I3Z6H3MphNnx",
        "colab_type": "text"
      },
      "source": [
        "**Model Building**"
      ]
    },
    {
      "cell_type": "code",
      "metadata": {
        "id": "TQ-gLE6G1nOH",
        "colab_type": "code",
        "outputId": "8003db4b-117d-4574-d043-7a86d12f5ddf",
        "colab": {
          "base_uri": "https://localhost:8080/",
          "height": 445
        }
      },
      "source": [
        "model = Sequential()\n",
        "model.add(Conv2D(32, (3, 3), activation = 'relu', padding = 'same', input_shape = (32, 32, 3)))\n",
        "#model.add(Conv2D(32, (3, 3), activation = 'relu', padding = 'same'))\n",
        "model.add(MaxPooling2D(pool_size = (2, 2)))\n",
        "\n",
        "#model.add(Conv2D(64, (3, 3), activation = 'relu', padding = 'same'))\n",
        "#model.add(Conv2D(64, (3, 3), activation = 'relu', padding = 'same'))\n",
        "#model.add(MaxPooling2D(pool_size = (2, 2)))\n",
        "\n",
        "#model.add(Conv2D(96, (3, 3), activation = 'relu', padding = 'same'))\n",
        "#model.add(Conv2D(96, (3, 3), activation = 'relu', padding = 'same'))\n",
        "#model.add(MaxPooling2D(pool_size = (2, 2)))\n",
        "\n",
        "#model.add(Conv2D(128, (3, 3), activation = 'relu', padding = 'same'))\n",
        "#model.add(Conv2D(128, (3, 3), activation = 'relu', padding = 'same'))\n",
        "#model.add(MaxPooling2D(pool_size = (2, 2)))\n",
        "          \n",
        "model.add(Flatten())\n",
        "model.add(Dense(128, activation = 'relu'))\n",
        "model.add(Dense(2, activation = 'sigmoid'))\n",
        "\n",
        "model.summary()"
      ],
      "execution_count": 0,
      "outputs": [
        {
          "output_type": "stream",
          "text": [
            "WARNING:tensorflow:From /usr/local/lib/python3.6/dist-packages/keras/backend/tensorflow_backend.py:541: The name tf.placeholder is deprecated. Please use tf.compat.v1.placeholder instead.\n",
            "\n",
            "WARNING:tensorflow:From /usr/local/lib/python3.6/dist-packages/keras/backend/tensorflow_backend.py:4432: The name tf.random_uniform is deprecated. Please use tf.random.uniform instead.\n",
            "\n",
            "WARNING:tensorflow:From /usr/local/lib/python3.6/dist-packages/keras/backend/tensorflow_backend.py:4267: The name tf.nn.max_pool is deprecated. Please use tf.nn.max_pool2d instead.\n",
            "\n",
            "Model: \"sequential_1\"\n",
            "_________________________________________________________________\n",
            "Layer (type)                 Output Shape              Param #   \n",
            "=================================================================\n",
            "conv2d_1 (Conv2D)            (None, 32, 32, 32)        896       \n",
            "_________________________________________________________________\n",
            "max_pooling2d_1 (MaxPooling2 (None, 16, 16, 32)        0         \n",
            "_________________________________________________________________\n",
            "flatten_1 (Flatten)          (None, 8192)              0         \n",
            "_________________________________________________________________\n",
            "dense_1 (Dense)              (None, 128)               1048704   \n",
            "_________________________________________________________________\n",
            "dense_2 (Dense)              (None, 2)                 258       \n",
            "=================================================================\n",
            "Total params: 1,049,858\n",
            "Trainable params: 1,049,858\n",
            "Non-trainable params: 0\n",
            "_________________________________________________________________\n"
          ],
          "name": "stdout"
        }
      ]
    },
    {
      "cell_type": "code",
      "metadata": {
        "id": "fOe4sQEjSvV6",
        "colab_type": "code",
        "outputId": "b0ee30b6-75dd-4a8e-c864-05470e152241",
        "colab": {
          "base_uri": "https://localhost:8080/",
          "height": 71
        }
      },
      "source": [
        "model.compile(optimizer = 'adam', loss = 'categorical_crossentropy', metrics = ['accuracy'])"
      ],
      "execution_count": 0,
      "outputs": [
        {
          "output_type": "stream",
          "text": [
            "WARNING:tensorflow:From /usr/local/lib/python3.6/dist-packages/keras/optimizers.py:793: The name tf.train.Optimizer is deprecated. Please use tf.compat.v1.train.Optimizer instead.\n",
            "\n"
          ],
          "name": "stdout"
        }
      ]
    },
    {
      "cell_type": "code",
      "metadata": {
        "id": "WP_OLsdGhP9f",
        "colab_type": "code",
        "outputId": "658e9c58-2f0d-4201-f595-60ce17682917",
        "colab": {
          "base_uri": "https://localhost:8080/",
          "height": 68
        }
      },
      "source": [
        "class_mode = 'categorical'\n",
        "train_datagen = ImageDataGenerator(rescale = 1./255, shear_range = 0.2, zoom_range = 0.2, horizontal_flip = True)\n",
        "train_generator = train_datagen.flow_from_directory('Train', target_size = (32, 32), batch_size = 32, class_mode = class_mode, shuffle = True)\n",
        "\n",
        "test_datagen = ImageDataGenerator(rescale = 1./255)\n",
        "test_generator = test_datagen.flow_from_directory('Test', target_size = (32, 32), batch_size = 32, class_mode = class_mode, shuffle = False)\n",
        "\n",
        "val_datagen = ImageDataGenerator(rescale = 1./255)\n",
        "val_generator = val_datagen.flow_from_directory('Val', target_size = (32, 32), batch_size = 32, class_mode = class_mode, shuffle = False)"
      ],
      "execution_count": 0,
      "outputs": [
        {
          "output_type": "stream",
          "text": [
            "Found 840 images belonging to 2 classes.\n",
            "Found 280 images belonging to 2 classes.\n",
            "Found 280 images belonging to 2 classes.\n"
          ],
          "name": "stdout"
        }
      ]
    },
    {
      "cell_type": "code",
      "metadata": {
        "id": "eqSbyArsd1Ce",
        "colab_type": "code",
        "colab": {}
      },
      "source": [
        "from sklearn.utils import class_weight\n",
        "class_weight = class_weight.compute_class_weight('balanced', np.unique(train_generator.classes), train_generator.classes)"
      ],
      "execution_count": 0,
      "outputs": []
    },
    {
      "cell_type": "code",
      "metadata": {
        "id": "ukoRoOpgeUz5",
        "colab_type": "code",
        "outputId": "8f985681-974d-46fa-87e7-7b3c3126b3ab",
        "colab": {
          "base_uri": "https://localhost:8080/",
          "height": 34
        }
      },
      "source": [
        "class_weight"
      ],
      "execution_count": 0,
      "outputs": [
        {
          "output_type": "execute_result",
          "data": {
            "text/plain": [
              "array([0.7 , 1.75])"
            ]
          },
          "metadata": {
            "tags": []
          },
          "execution_count": 34
        }
      ]
    },
    {
      "cell_type": "code",
      "metadata": {
        "id": "egXa6dxLwbUz",
        "colab_type": "code",
        "outputId": "667563a8-55cf-4d4f-864b-184f722e5b1e",
        "colab": {
          "base_uri": "https://localhost:8080/",
          "height": 853
        }
      },
      "source": [
        "model.fit_generator(train_generator, steps_per_epoch = len(train_generator), epochs = 100, verbose = 2, validation_data = val_generator, validation_steps = len(val_generator), \n",
        "                    callbacks = callbacks, class_weight = class_weight)"
      ],
      "execution_count": 0,
      "outputs": [
        {
          "output_type": "stream",
          "text": [
            "WARNING:tensorflow:From /usr/local/lib/python3.6/dist-packages/tensorflow/python/ops/math_grad.py:1250: add_dispatch_support.<locals>.wrapper (from tensorflow.python.ops.array_ops) is deprecated and will be removed in a future version.\n",
            "Instructions for updating:\n",
            "Use tf.where in 2.0, which has the same broadcast rule as np.where\n",
            "WARNING:tensorflow:From /usr/local/lib/python3.6/dist-packages/keras/callbacks.py:1122: The name tf.summary.merge_all is deprecated. Please use tf.compat.v1.summary.merge_all instead.\n",
            "\n",
            "WARNING:tensorflow:From /usr/local/lib/python3.6/dist-packages/keras/callbacks.py:1125: The name tf.summary.FileWriter is deprecated. Please use tf.compat.v1.summary.FileWriter instead.\n",
            "\n",
            "Epoch 1/100\n",
            " - 75s - loss: 0.5852 - acc: 0.7219 - val_loss: 0.7489 - val_acc: 0.7143\n",
            "Epoch 2/100\n",
            " - 74s - loss: 0.5957 - acc: 0.7152 - val_loss: 0.5381 - val_acc: 0.7143\n",
            "Epoch 3/100\n",
            " - 74s - loss: 0.5379 - acc: 0.7152 - val_loss: 0.5275 - val_acc: 0.7179\n",
            "Epoch 4/100\n",
            " - 74s - loss: 0.4904 - acc: 0.7152 - val_loss: 0.4888 - val_acc: 0.7357\n",
            "Epoch 5/100\n",
            " - 74s - loss: 0.4569 - acc: 0.7639 - val_loss: 0.4719 - val_acc: 0.7357\n",
            "Epoch 6/100\n",
            " - 73s - loss: 0.4652 - acc: 0.7351 - val_loss: 0.4571 - val_acc: 0.7464\n",
            "Epoch 7/100\n",
            " - 73s - loss: 0.4268 - acc: 0.8054 - val_loss: 0.4882 - val_acc: 0.7286\n",
            "Epoch 8/100\n",
            " - 73s - loss: 0.4218 - acc: 0.7709 - val_loss: 0.4267 - val_acc: 0.7607\n",
            "Epoch 9/100\n",
            " - 73s - loss: 0.3967 - acc: 0.7953 - val_loss: 0.4158 - val_acc: 0.7893\n",
            "Epoch 10/100\n",
            " - 73s - loss: 0.3990 - acc: 0.8114 - val_loss: 0.4039 - val_acc: 0.8036\n",
            "Epoch 11/100\n",
            " - 73s - loss: 0.3737 - acc: 0.8297 - val_loss: 0.4022 - val_acc: 0.7893\n",
            "Epoch 12/100\n",
            " - 73s - loss: 0.3645 - acc: 0.8204 - val_loss: 0.3973 - val_acc: 0.7893\n",
            "Epoch 13/100\n",
            " - 73s - loss: 0.3584 - acc: 0.8205 - val_loss: 0.3822 - val_acc: 0.8107\n",
            "Epoch 14/100\n",
            " - 73s - loss: 0.3403 - acc: 0.8391 - val_loss: 0.4353 - val_acc: 0.7679\n",
            "Epoch 15/100\n",
            " - 73s - loss: 0.3524 - acc: 0.8252 - val_loss: 0.3956 - val_acc: 0.8000\n",
            "Epoch 16/100\n",
            " - 73s - loss: 0.3505 - acc: 0.8312 - val_loss: 0.3934 - val_acc: 0.8071\n",
            "Epoch 17/100\n",
            " - 74s - loss: 0.3439 - acc: 0.8310 - val_loss: 0.3918 - val_acc: 0.8000\n",
            "Epoch 18/100\n",
            " - 73s - loss: 0.3366 - acc: 0.8471 - val_loss: 0.3872 - val_acc: 0.8321\n",
            "Restoring model weights from the end of the best epoch\n",
            "\n",
            "Epoch 00018: ReduceLROnPlateau reducing learning rate to 0.00010000000474974513.\n",
            "Epoch 00018: early stopping\n"
          ],
          "name": "stdout"
        },
        {
          "output_type": "execute_result",
          "data": {
            "text/plain": [
              "<keras.callbacks.History at 0x7f257edd7198>"
            ]
          },
          "metadata": {
            "tags": []
          },
          "execution_count": 35
        }
      ]
    },
    {
      "cell_type": "code",
      "metadata": {
        "id": "7PUHZiOvYO8L",
        "colab_type": "code",
        "colab": {}
      },
      "source": [
        "from keras.models import load_model\n",
        "model_file = 'Output/Models/' + str([file for file in os.listdir('Output/Models/') if file.startswith('Models')][0])\n",
        "model = load_model(model_file)"
      ],
      "execution_count": 0,
      "outputs": []
    },
    {
      "cell_type": "code",
      "metadata": {
        "id": "SshY8MuwOGob",
        "colab_type": "code",
        "outputId": "77428d43-c41e-4e43-d97a-befa46075ff3",
        "colab": {
          "base_uri": "https://localhost:8080/",
          "height": 34
        }
      },
      "source": [
        "results = model.evaluate_generator(test_generator, steps = len(test_generator), verbose = 1)"
      ],
      "execution_count": 0,
      "outputs": [
        {
          "output_type": "stream",
          "text": [
            "9/9 [==============================] - 20s 2s/step\n"
          ],
          "name": "stdout"
        }
      ]
    },
    {
      "cell_type": "code",
      "metadata": {
        "id": "yBEruZF_OVFP",
        "colab_type": "code",
        "outputId": "6bbdbf6c-b0b5-42ec-efbf-738d6374f44d",
        "colab": {
          "base_uri": "https://localhost:8080/",
          "height": 51
        }
      },
      "source": [
        "print(\"Loss = %s\" %results[0])\n",
        "print(\"Accuracy = %s\" %results[1])"
      ],
      "execution_count": 0,
      "outputs": [
        {
          "output_type": "stream",
          "text": [
            "Loss = 0.33216618895530703\n",
            "Accuracy = 0.8464285731315613\n"
          ],
          "name": "stdout"
        }
      ]
    },
    {
      "cell_type": "code",
      "metadata": {
        "id": "UTGhJ0MhB79p",
        "colab_type": "code",
        "outputId": "8bd21e5a-705c-45cd-9004-42156ec59206",
        "colab": {
          "base_uri": "https://localhost:8080/",
          "height": 34
        }
      },
      "source": [
        "y_pred = model.predict_generator(train_generator, len(train_generator), verbose = 1)\n",
        "y_pred = y_pred.argmax(axis = -1)\n",
        "y_true = train_generator.classes"
      ],
      "execution_count": 0,
      "outputs": [
        {
          "output_type": "stream",
          "text": [
            "27/27 [==============================] - 61s 2s/step\n"
          ],
          "name": "stdout"
        }
      ]
    },
    {
      "cell_type": "code",
      "metadata": {
        "id": "X7OYmgI1Ejn6",
        "colab_type": "code",
        "colab": {}
      },
      "source": [
        "precision = precision_score(y_pred, y_true)\n",
        "recall = recall_score(y_true, y_pred)\n",
        "f1_score = f1_score(y_true, y_pred)"
      ],
      "execution_count": 0,
      "outputs": []
    },
    {
      "cell_type": "code",
      "metadata": {
        "id": "LWMXEo2ZEtQM",
        "colab_type": "code",
        "outputId": "af1ac5c2-bd5d-4f5d-a302-f14433384d3a",
        "colab": {
          "base_uri": "https://localhost:8080/",
          "height": 34
        }
      },
      "source": [
        "print(\"Precision = %s Recall = %s F1 Score = %s\" % (precision, recall, f1_score))"
      ],
      "execution_count": 0,
      "outputs": [
        {
          "output_type": "stream",
          "text": [
            "Precision = 0.22083333333333333 Recall = 0.22083333333333333 F1 Score = 0.2610837438423645\n"
          ],
          "name": "stdout"
        }
      ]
    },
    {
      "cell_type": "code",
      "metadata": {
        "id": "YCbqGmf_t3qe",
        "colab_type": "code",
        "colab": {}
      },
      "source": [
        "numofbatch = len(test_generator)\n",
        "batch_no = random.randint(0, numofbatch - 1)\n",
        "y_img_batch, y_true_batch = test_generator[batch_no]\n",
        "y_true_batch = y_true_batch.argmax(axis = -1)\n",
        "\n",
        "y_pred_batch = model.predict(y_img_batch)\n",
        "y_pred_batch = y_pred_batch.argmax(axis = -1)\n",
        "\n",
        "sizeofbatch = len(y_true_batch)"
      ],
      "execution_count": 0,
      "outputs": []
    },
    {
      "cell_type": "code",
      "metadata": {
        "id": "47peJlLqb3aX",
        "colab_type": "code",
        "outputId": "b3388f6f-e104-4af6-e875-ce7129fc5d19",
        "colab": {
          "base_uri": "https://localhost:8080/",
          "height": 34
        }
      },
      "source": [
        "type(y_pred_batch)"
      ],
      "execution_count": 0,
      "outputs": [
        {
          "output_type": "execute_result",
          "data": {
            "text/plain": [
              "numpy.ndarray"
            ]
          },
          "metadata": {
            "tags": []
          },
          "execution_count": 54
        }
      ]
    },
    {
      "cell_type": "code",
      "metadata": {
        "id": "VwVaa1DvxOrn",
        "colab_type": "code",
        "outputId": "a1c81b1c-ce37-4bfe-ad06-5a0b47f56eb4",
        "colab": {
          "base_uri": "https://localhost:8080/",
          "height": 34
        }
      },
      "source": [
        "batch_size = len(y_pred_batch)\n",
        "accuracy = str(np.mean(y_true == y_pred) * 100) + \" %\"\n",
        "print(\"Batch no = %s Batch size = %s Accuracy = %s\" % (batch_no, batch_size, accuracy))"
      ],
      "execution_count": 0,
      "outputs": [
        {
          "output_type": "stream",
          "text": [
            "Batch no = 1 Batch size = 32 Accuracy = 64.28571428571429 %\n"
          ],
          "name": "stdout"
        }
      ]
    },
    {
      "cell_type": "code",
      "metadata": {
        "id": "AKT2tLJ01KVs",
        "colab_type": "code",
        "outputId": "56d34edd-f696-48c0-9080-456b7f00ddc9",
        "colab": {
          "base_uri": "https://localhost:8080/",
          "height": 51
        }
      },
      "source": [
        "y_true_batch"
      ],
      "execution_count": 0,
      "outputs": [
        {
          "output_type": "execute_result",
          "data": {
            "text/plain": [
              "array([0, 0, 0, 0, 0, 0, 0, 0, 0, 0, 0, 0, 0, 0, 0, 0, 0, 0, 0, 0, 0, 0,\n",
              "       0, 0, 0, 0, 0, 0, 0, 0, 0, 0])"
            ]
          },
          "metadata": {
            "tags": []
          },
          "execution_count": 51
        }
      ]
    },
    {
      "cell_type": "code",
      "metadata": {
        "id": "Lyq--0Gm6rgv",
        "colab_type": "code",
        "outputId": "bb5d7b14-a6e2-4f01-8406-e9907b7332b4",
        "colab": {
          "base_uri": "https://localhost:8080/",
          "height": 51
        }
      },
      "source": [
        "y_pred_batch"
      ],
      "execution_count": 0,
      "outputs": [
        {
          "output_type": "execute_result",
          "data": {
            "text/plain": [
              "array([0, 0, 0, 0, 0, 0, 0, 0, 0, 0, 0, 1, 0, 0, 0, 0, 0, 0, 0, 0, 0, 0,\n",
              "       0, 0, 0, 0, 0, 0, 1, 0, 0, 1])"
            ]
          },
          "metadata": {
            "tags": []
          },
          "execution_count": 52
        }
      ]
    },
    {
      "cell_type": "code",
      "metadata": {
        "id": "l2hWrdU26zJZ",
        "colab_type": "code",
        "outputId": "97219ee0-db12-40b1-cb24-288e234848df",
        "colab": {
          "base_uri": "https://localhost:8080/",
          "height": 34
        }
      },
      "source": [
        "test_generator.class_indices.items()"
      ],
      "execution_count": 0,
      "outputs": [
        {
          "output_type": "execute_result",
          "data": {
            "text/plain": [
              "dict_items([('Benign', 0), ('Malignant', 1)])"
            ]
          },
          "metadata": {
            "tags": []
          },
          "execution_count": 53
        }
      ]
    }
  ]
}